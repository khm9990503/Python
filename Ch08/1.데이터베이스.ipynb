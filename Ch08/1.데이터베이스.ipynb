{
 "cells": [
  {
   "cell_type": "code",
   "execution_count": 6,
   "metadata": {},
   "outputs": [],
   "source": [
    "\"\"\"\n",
    "날짜 : 2023/01/13\n",
    "이름 : 구홍모\n",
    "내용 : 파이썬 데이터베이스 실습하기\n",
    "\n",
    "\"\"\"\n",
    "import pymysql"
   ]
  },
  {
   "cell_type": "code",
   "execution_count": 8,
   "metadata": {},
   "outputs": [
    {
     "name": "stdout",
     "output_type": "stream",
     "text": [
      "insert complete...\n"
     ]
    }
   ],
   "source": [
    "# Insert 실습\n",
    "# DB 접속\n",
    "conn = pymysql.connect(host='127.0.0.1',\n",
    "                        user='root',\n",
    "                        password='1234',\n",
    "                        db='java1db',\n",
    "                        charset='utf8')\n",
    "\n",
    "# SQL 실행 객체\n",
    "cur = conn.cursorsor()\n",
    "\n",
    "# SQL 실행\n",
    "sql = \"insert into `user1` values ('p101','1234','파이쏜','010-1234-1111',23);\"\n",
    "cur.execute(sql)\n",
    "conn.commit()\n",
    "\n",
    "# DB 종료\n",
    "conn.close()\n",
    "print('insert complete...')"
   ]
  },
  {
   "cell_type": "code",
   "execution_count": 11,
   "metadata": {},
   "outputs": [
    {
     "ename": "ProgrammingError",
     "evalue": "(1064, \"You have an error in your SQL syntax; check the manual that corresponds to your MySQL server version for the right syntax to use near '`hp`='010-1111-2222'`age`='27'where `uid`='p101'' at line 1\")",
     "output_type": "error",
     "traceback": [
      "\u001b[1;31m---------------------------------------------------------------------------\u001b[0m",
      "\u001b[1;31mProgrammingError\u001b[0m                          Traceback (most recent call last)",
      "Cell \u001b[1;32mIn[11], line 18\u001b[0m\n\u001b[0;32m     16\u001b[0m sql \u001b[39m+\u001b[39m\u001b[39m=\u001b[39m \u001b[39m\"\u001b[39m\u001b[39m`age`=\u001b[39m\u001b[39m'\u001b[39m\u001b[39m27\u001b[39m\u001b[39m'\u001b[39m\u001b[39m\"\u001b[39m\n\u001b[0;32m     17\u001b[0m sql \u001b[39m+\u001b[39m\u001b[39m=\u001b[39m \u001b[39m\"\u001b[39m\u001b[39mwhere `uid`=\u001b[39m\u001b[39m'\u001b[39m\u001b[39mp101\u001b[39m\u001b[39m'\u001b[39m\u001b[39m;\u001b[39m\u001b[39m\"\u001b[39m\n\u001b[1;32m---> 18\u001b[0m cur\u001b[39m.\u001b[39;49mexecute(sql)\n\u001b[0;32m     19\u001b[0m conn\u001b[39m.\u001b[39mcommit()\n\u001b[0;32m     21\u001b[0m \u001b[39m# DB 종료\u001b[39;00m\n",
      "File \u001b[1;32mc:\\Users\\java1\\AppData\\Local\\Programs\\Python\\Python311\\Lib\\site-packages\\pymysql\\cursors.py:148\u001b[0m, in \u001b[0;36mCursor.execute\u001b[1;34m(self, query, args)\u001b[0m\n\u001b[0;32m    144\u001b[0m     \u001b[39mpass\u001b[39;00m\n\u001b[0;32m    146\u001b[0m query \u001b[39m=\u001b[39m \u001b[39mself\u001b[39m\u001b[39m.\u001b[39mmogrify(query, args)\n\u001b[1;32m--> 148\u001b[0m result \u001b[39m=\u001b[39m \u001b[39mself\u001b[39;49m\u001b[39m.\u001b[39;49m_query(query)\n\u001b[0;32m    149\u001b[0m \u001b[39mself\u001b[39m\u001b[39m.\u001b[39m_executed \u001b[39m=\u001b[39m query\n\u001b[0;32m    150\u001b[0m \u001b[39mreturn\u001b[39;00m result\n",
      "File \u001b[1;32mc:\\Users\\java1\\AppData\\Local\\Programs\\Python\\Python311\\Lib\\site-packages\\pymysql\\cursors.py:310\u001b[0m, in \u001b[0;36mCursor._query\u001b[1;34m(self, q)\u001b[0m\n\u001b[0;32m    308\u001b[0m \u001b[39mself\u001b[39m\u001b[39m.\u001b[39m_last_executed \u001b[39m=\u001b[39m q\n\u001b[0;32m    309\u001b[0m \u001b[39mself\u001b[39m\u001b[39m.\u001b[39m_clear_result()\n\u001b[1;32m--> 310\u001b[0m conn\u001b[39m.\u001b[39;49mquery(q)\n\u001b[0;32m    311\u001b[0m \u001b[39mself\u001b[39m\u001b[39m.\u001b[39m_do_get_result()\n\u001b[0;32m    312\u001b[0m \u001b[39mreturn\u001b[39;00m \u001b[39mself\u001b[39m\u001b[39m.\u001b[39mrowcount\n",
      "File \u001b[1;32mc:\\Users\\java1\\AppData\\Local\\Programs\\Python\\Python311\\Lib\\site-packages\\pymysql\\connections.py:548\u001b[0m, in \u001b[0;36mConnection.query\u001b[1;34m(self, sql, unbuffered)\u001b[0m\n\u001b[0;32m    546\u001b[0m     sql \u001b[39m=\u001b[39m sql\u001b[39m.\u001b[39mencode(\u001b[39mself\u001b[39m\u001b[39m.\u001b[39mencoding, \u001b[39m\"\u001b[39m\u001b[39msurrogateescape\u001b[39m\u001b[39m\"\u001b[39m)\n\u001b[0;32m    547\u001b[0m \u001b[39mself\u001b[39m\u001b[39m.\u001b[39m_execute_command(COMMAND\u001b[39m.\u001b[39mCOM_QUERY, sql)\n\u001b[1;32m--> 548\u001b[0m \u001b[39mself\u001b[39m\u001b[39m.\u001b[39m_affected_rows \u001b[39m=\u001b[39m \u001b[39mself\u001b[39;49m\u001b[39m.\u001b[39;49m_read_query_result(unbuffered\u001b[39m=\u001b[39;49munbuffered)\n\u001b[0;32m    549\u001b[0m \u001b[39mreturn\u001b[39;00m \u001b[39mself\u001b[39m\u001b[39m.\u001b[39m_affected_rows\n",
      "File \u001b[1;32mc:\\Users\\java1\\AppData\\Local\\Programs\\Python\\Python311\\Lib\\site-packages\\pymysql\\connections.py:775\u001b[0m, in \u001b[0;36mConnection._read_query_result\u001b[1;34m(self, unbuffered)\u001b[0m\n\u001b[0;32m    773\u001b[0m \u001b[39melse\u001b[39;00m:\n\u001b[0;32m    774\u001b[0m     result \u001b[39m=\u001b[39m MySQLResult(\u001b[39mself\u001b[39m)\n\u001b[1;32m--> 775\u001b[0m     result\u001b[39m.\u001b[39;49mread()\n\u001b[0;32m    776\u001b[0m \u001b[39mself\u001b[39m\u001b[39m.\u001b[39m_result \u001b[39m=\u001b[39m result\n\u001b[0;32m    777\u001b[0m \u001b[39mif\u001b[39;00m result\u001b[39m.\u001b[39mserver_status \u001b[39mis\u001b[39;00m \u001b[39mnot\u001b[39;00m \u001b[39mNone\u001b[39;00m:\n",
      "File \u001b[1;32mc:\\Users\\java1\\AppData\\Local\\Programs\\Python\\Python311\\Lib\\site-packages\\pymysql\\connections.py:1156\u001b[0m, in \u001b[0;36mMySQLResult.read\u001b[1;34m(self)\u001b[0m\n\u001b[0;32m   1154\u001b[0m \u001b[39mdef\u001b[39;00m \u001b[39mread\u001b[39m(\u001b[39mself\u001b[39m):\n\u001b[0;32m   1155\u001b[0m     \u001b[39mtry\u001b[39;00m:\n\u001b[1;32m-> 1156\u001b[0m         first_packet \u001b[39m=\u001b[39m \u001b[39mself\u001b[39;49m\u001b[39m.\u001b[39;49mconnection\u001b[39m.\u001b[39;49m_read_packet()\n\u001b[0;32m   1158\u001b[0m         \u001b[39mif\u001b[39;00m first_packet\u001b[39m.\u001b[39mis_ok_packet():\n\u001b[0;32m   1159\u001b[0m             \u001b[39mself\u001b[39m\u001b[39m.\u001b[39m_read_ok_packet(first_packet)\n",
      "File \u001b[1;32mc:\\Users\\java1\\AppData\\Local\\Programs\\Python\\Python311\\Lib\\site-packages\\pymysql\\connections.py:725\u001b[0m, in \u001b[0;36mConnection._read_packet\u001b[1;34m(self, packet_type)\u001b[0m\n\u001b[0;32m    723\u001b[0m     \u001b[39mif\u001b[39;00m \u001b[39mself\u001b[39m\u001b[39m.\u001b[39m_result \u001b[39mis\u001b[39;00m \u001b[39mnot\u001b[39;00m \u001b[39mNone\u001b[39;00m \u001b[39mand\u001b[39;00m \u001b[39mself\u001b[39m\u001b[39m.\u001b[39m_result\u001b[39m.\u001b[39munbuffered_active \u001b[39mis\u001b[39;00m \u001b[39mTrue\u001b[39;00m:\n\u001b[0;32m    724\u001b[0m         \u001b[39mself\u001b[39m\u001b[39m.\u001b[39m_result\u001b[39m.\u001b[39munbuffered_active \u001b[39m=\u001b[39m \u001b[39mFalse\u001b[39;00m\n\u001b[1;32m--> 725\u001b[0m     packet\u001b[39m.\u001b[39;49mraise_for_error()\n\u001b[0;32m    726\u001b[0m \u001b[39mreturn\u001b[39;00m packet\n",
      "File \u001b[1;32mc:\\Users\\java1\\AppData\\Local\\Programs\\Python\\Python311\\Lib\\site-packages\\pymysql\\protocol.py:221\u001b[0m, in \u001b[0;36mMysqlPacket.raise_for_error\u001b[1;34m(self)\u001b[0m\n\u001b[0;32m    219\u001b[0m \u001b[39mif\u001b[39;00m DEBUG:\n\u001b[0;32m    220\u001b[0m     \u001b[39mprint\u001b[39m(\u001b[39m\"\u001b[39m\u001b[39merrno =\u001b[39m\u001b[39m\"\u001b[39m, errno)\n\u001b[1;32m--> 221\u001b[0m err\u001b[39m.\u001b[39;49mraise_mysql_exception(\u001b[39mself\u001b[39;49m\u001b[39m.\u001b[39;49m_data)\n",
      "File \u001b[1;32mc:\\Users\\java1\\AppData\\Local\\Programs\\Python\\Python311\\Lib\\site-packages\\pymysql\\err.py:143\u001b[0m, in \u001b[0;36mraise_mysql_exception\u001b[1;34m(data)\u001b[0m\n\u001b[0;32m    141\u001b[0m \u001b[39mif\u001b[39;00m errorclass \u001b[39mis\u001b[39;00m \u001b[39mNone\u001b[39;00m:\n\u001b[0;32m    142\u001b[0m     errorclass \u001b[39m=\u001b[39m InternalError \u001b[39mif\u001b[39;00m errno \u001b[39m<\u001b[39m \u001b[39m1000\u001b[39m \u001b[39melse\u001b[39;00m OperationalError\n\u001b[1;32m--> 143\u001b[0m \u001b[39mraise\u001b[39;00m errorclass(errno, errval)\n",
      "\u001b[1;31mProgrammingError\u001b[0m: (1064, \"You have an error in your SQL syntax; check the manual that corresponds to your MySQL server version for the right syntax to use near '`hp`='010-1111-2222'`age`='27'where `uid`='p101'' at line 1\")"
     ]
    }
   ],
   "source": [
    "# Update 실습\n",
    "# DB 접속\n",
    "conn = pymysql.connect(host='127.0.0.1',\n",
    "                        user='root',\n",
    "                        password='1234',\n",
    "                        db='java1db',\n",
    "                        charset='utf8')\n",
    "\n",
    "# SQL 실행 객체\n",
    "cur = conn.cursor()\n",
    "\n",
    "# SQL 실행\n",
    "sql = \"update `user1` set \"\n",
    "sql += \"`name`='홍길동'\"\n",
    "sql += \"`hp`='010-1111-2222'\"\n",
    "sql += \"`age`='27'\"\n",
    "sql += \"where `uid`='p101';\"\n",
    "cur.execute(sql)\n",
    "conn.commit()\n",
    "\n",
    "# DB 종료\n",
    "conn.close()\n",
    "print('update complete...')"
   ]
  },
  {
   "cell_type": "code",
   "execution_count": 1,
   "metadata": {},
   "outputs": [
    {
     "ename": "NameError",
     "evalue": "name 'pymysql' is not defined",
     "output_type": "error",
     "traceback": [
      "\u001b[1;31m---------------------------------------------------------------------------\u001b[0m",
      "\u001b[1;31mNameError\u001b[0m                                 Traceback (most recent call last)",
      "Cell \u001b[1;32mIn[1], line 3\u001b[0m\n\u001b[0;32m      1\u001b[0m \u001b[39m# delete 실습\u001b[39;00m\n\u001b[0;32m      2\u001b[0m \u001b[39m# DB 접속\u001b[39;00m\n\u001b[1;32m----> 3\u001b[0m conn \u001b[39m=\u001b[39m pymysql\u001b[39m.\u001b[39mconnect(host\u001b[39m=\u001b[39m\u001b[39m'\u001b[39m\u001b[39m127.0.0.1\u001b[39m\u001b[39m'\u001b[39m,\n\u001b[0;32m      4\u001b[0m                         user\u001b[39m=\u001b[39m\u001b[39m'\u001b[39m\u001b[39mroot\u001b[39m\u001b[39m'\u001b[39m,\n\u001b[0;32m      5\u001b[0m                         password\u001b[39m=\u001b[39m\u001b[39m'\u001b[39m\u001b[39m1234\u001b[39m\u001b[39m'\u001b[39m,\n\u001b[0;32m      6\u001b[0m                         db\u001b[39m=\u001b[39m\u001b[39m'\u001b[39m\u001b[39mjava1db\u001b[39m\u001b[39m'\u001b[39m,\n\u001b[0;32m      7\u001b[0m                         charset\u001b[39m=\u001b[39m\u001b[39m'\u001b[39m\u001b[39mutf8\u001b[39m\u001b[39m'\u001b[39m)\n\u001b[0;32m      9\u001b[0m \u001b[39m# SQL 실행 객체\u001b[39;00m\n\u001b[0;32m     10\u001b[0m cur \u001b[39m=\u001b[39m conn\u001b[39m.\u001b[39mcursor()\n",
      "\u001b[1;31mNameError\u001b[0m: name 'pymysql' is not defined"
     ]
    }
   ],
   "source": [
    "# delete 실습\n",
    "# DB 접속\n",
    "conn = pymysql.connect(host='127.0.0.1',\n",
    "                        user='root',\n",
    "                        password='1234',\n",
    "                        db='java1db',\n",
    "                        charset='utf8')\n",
    "\n",
    "# SQL 실행 객체\n",
    "cur = conn.cursor()\n",
    "\n",
    "# SQL 실행\n",
    "sql = \"delete from `user1` where `uid`=`p101` \"\n",
    "\n",
    "cur.execute(sql)\n",
    "conn.commit()\n",
    "\n",
    "# DB 종료\n",
    "conn.close()\n",
    "print('delete complete...')"
   ]
  },
  {
   "cell_type": "code",
   "execution_count": 12,
   "metadata": {},
   "outputs": [
    {
     "name": "stdout",
     "output_type": "stream",
     "text": [
      "--------------\n",
      "아이디 :  a201\n",
      "비밀번호 :  1234\n",
      "이름 :  홍길동\n",
      "휴대폰 :  010-1110-2221\n",
      "나이 :  30\n",
      "--------------\n",
      "아이디 :  a188\n",
      "비밀번호 :  1234\n",
      "이름 :  홍길동\n",
      "휴대폰 :  010-1234-1543\n",
      "나이 :  56\n",
      "--------------\n",
      "아이디 :  a108\n",
      "비밀번호 :  1234\n",
      "이름 :  홍길동\n",
      "휴대폰 :  010-1234-1543\n",
      "나이 :  12\n",
      "--------------\n",
      "아이디 :  p101\n",
      "비밀번호 :  1234\n",
      "이름 :  파이쏜\n",
      "휴대폰 :  010-1234-1111\n",
      "나이 :  23\n",
      "select com..\n"
     ]
    }
   ],
   "source": [
    "# select 실습\n",
    "# DB 접속\n",
    "conn = pymysql.connect(host='127.0.0.1',\n",
    "                        user='root',\n",
    "                        password='1234',\n",
    "                        db='java1db',\n",
    "                        charset='utf8')\n",
    "\n",
    "# SQL 실행 객체\n",
    "cur = conn.cursor()\n",
    "\n",
    "sql = \"select * from `user1`\"\n",
    "cur.execute(sql)\n",
    "conn.commit()\n",
    "\n",
    "# 데이터 출력\n",
    "\n",
    "for row in cur.fetchall():\n",
    "    print('--------------')\n",
    "    print('아이디 : ',row[0])\n",
    "    print('비밀번호 : ',row[1])\n",
    "    print('이름 : ',row[2])\n",
    "    print('휴대폰 : ',row[3])\n",
    "    print('나이 : ',row[4])\n",
    "\n",
    "conn.close()\n",
    "print('select com..')"
   ]
  }
 ],
 "metadata": {
  "kernelspec": {
   "display_name": "Python 3",
   "language": "python",
   "name": "python3"
  },
  "language_info": {
   "codemirror_mode": {
    "name": "ipython",
    "version": 3
   },
   "file_extension": ".py",
   "mimetype": "text/x-python",
   "name": "python",
   "nbconvert_exporter": "python",
   "pygments_lexer": "ipython3",
   "version": "3.11.1 (tags/v3.11.1:a7a450f, Dec  6 2022, 19:58:39) [MSC v.1934 64 bit (AMD64)]"
  },
  "orig_nbformat": 4,
  "vscode": {
   "interpreter": {
    "hash": "ca3167030a8377a7b82d5e665b459d458267ba920e721652be188ae573e682bb"
   }
  }
 },
 "nbformat": 4,
 "nbformat_minor": 2
}

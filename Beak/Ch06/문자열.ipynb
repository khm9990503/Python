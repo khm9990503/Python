{
 "cells": [
  {
   "cell_type": "code",
   "execution_count": 14,
   "metadata": {},
   "outputs": [
    {
     "name": "stdout",
     "output_type": "stream",
     "text": [
      "49\n"
     ]
    }
   ],
   "source": [
    "# 입력값따라 문자 -> 아스키 코드\n",
    "\n",
    "val = input()\n",
    "\n",
    "print(ord(val))\n"
   ]
  },
  {
   "cell_type": "code",
   "execution_count": 11,
   "metadata": {},
   "outputs": [
    {
     "name": "stdout",
     "output_type": "stream",
     "text": [
      "1\n"
     ]
    }
   ],
   "source": [
    "# 숫자 합\n",
    "N = input()\n",
    "val = input()\n",
    "\n",
    "length = len(val)\n",
    "\n",
    "total = 0\n",
    "for i in range(0, length):\n",
    "    total += int(val[i])\n",
    "\n",
    "\n",
    "print(total)\n"
   ]
  },
  {
   "cell_type": "code",
   "execution_count": 9,
   "metadata": {},
   "outputs": [
    {
     "name": "stdout",
     "output_type": "stream",
     "text": [
      "3 0 -1 -1 1 -1 -1 -1 -1 -1 4 -1 -1 -1 -1 -1 -1 2 -1 -1 -1 -1 -1 -1 -1 -1 "
     ]
    }
   ],
   "source": [
    "# 알파벳 찾기\n",
    "S = input()\n",
    "\n",
    "length = len(S)\n",
    "\n",
    "arr = list()\n",
    "for i in range(0, length):\n",
    "    arr.append(S[i])\n",
    "\n",
    "from string import ascii_lowercase # 알파벳 리스트 불러오기\n",
    "\n",
    "alphabet_list = list(ascii_lowercase)\n",
    "\n",
    "for i in alphabet_list:\n",
    "    if i in arr:\n",
    "        print(arr.index(i),end=' ')\n",
    "    else:\n",
    "        print('-1',end=' ')\n"
   ]
  },
  {
   "cell_type": "code",
   "execution_count": 6,
   "metadata": {},
   "outputs": [
    {
     "name": "stdout",
     "output_type": "stream",
     "text": [
      "aassdd\n",
      "fffdddgggsss\n"
     ]
    }
   ],
   "source": [
    "a = int(input())\n",
    "\n",
    "for i in range(a):\n",
    "    b, c = input().split()\n",
    "    d = int(b)\n",
    "    length = len(c)\n",
    "    arr = list()\n",
    "    re = ''\n",
    "    for i in range(length):\n",
    "        arr.append(d*c[i])\n",
    "        re += arr[i] \n",
    "    \n",
    "    print(re)\n",
    "\n"
   ]
  },
  {
   "cell_type": "code",
   "execution_count": 23,
   "metadata": {},
   "outputs": [
    {
     "name": "stdout",
     "output_type": "stream",
     "text": [
      "a 4\n",
      "s 2\n"
     ]
    }
   ],
   "source": [
    "a = input().lower()\n",
    "\n",
    "lenght = len(a)\n",
    "\n",
    "arr = list()\n",
    "\n",
    "for i in range(lenght):\n",
    "    arr.append(a[i])\n",
    "    \n",
    "from collections import Counter\n",
    "\n",
    "cnt = Counter(arr)\n",
    "\n",
    "re = dict(cnt.most_common(2))\n",
    "\n"
   ]
  },
  {
   "cell_type": "code",
   "execution_count": null,
   "metadata": {},
   "outputs": [],
   "source": []
  }
 ],
 "metadata": {
  "kernelspec": {
   "display_name": "Python 3",
   "language": "python",
   "name": "python3"
  },
  "language_info": {
   "codemirror_mode": {
    "name": "ipython",
    "version": 3
   },
   "file_extension": ".py",
   "mimetype": "text/x-python",
   "name": "python",
   "nbconvert_exporter": "python",
   "pygments_lexer": "ipython3",
   "version": "3.11.1 (tags/v3.11.1:a7a450f, Dec  6 2022, 19:58:39) [MSC v.1934 64 bit (AMD64)]"
  },
  "orig_nbformat": 4,
  "vscode": {
   "interpreter": {
    "hash": "ca3167030a8377a7b82d5e665b459d458267ba920e721652be188ae573e682bb"
   }
  }
 },
 "nbformat": 4,
 "nbformat_minor": 2
}

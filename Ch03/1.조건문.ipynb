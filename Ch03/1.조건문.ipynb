{
 "cells": [
  {
   "cell_type": "code",
   "execution_count": 1,
   "metadata": {},
   "outputs": [
    {
     "data": {
      "text/plain": [
       "'\\n날짜 : 2023/01/03\\n이름 : 구홍모\\n내용 : 파이썬 조건문 실습하기\\n\\n다음 셀로 가기 : shift + enter\\n'"
      ]
     },
     "execution_count": 1,
     "metadata": {},
     "output_type": "execute_result"
    }
   ],
   "source": [
    "\"\"\"\n",
    "날짜 : 2023/01/03\n",
    "이름 : 구홍모\n",
    "내용 : 파이썬 조건문 실습하기\n",
    "\n",
    "다음 셀로 가기 : shift + enter\n",
    "\"\"\""
   ]
  },
  {
   "cell_type": "code",
   "execution_count": 6,
   "metadata": {},
   "outputs": [
    {
     "name": "stdout",
     "output_type": "stream",
     "text": [
      "num1은 0보다 크다.\n",
      "num1은 0보다 크고 num2는 1보다 크다.\n",
      "num1은 0보다 크다 그리고 num2는 1보다 크다.\n"
     ]
    }
   ],
   "source": [
    "# if\n",
    "num1, num2 = 1, 2\n",
    "\n",
    "if num1 > 0:\n",
    "    print('num1은 0보다 크다.')\n",
    "\n",
    "if num1 > num2:\n",
    "    print('num1은 num2보다 크다.')\n",
    "\n",
    "if num1 > 0:\n",
    "    if num2 > 1:\n",
    "        print('num1은 0보다 크고 num2는 1보다 크다.')\n",
    "\n",
    "if num1 > 0 and num2 > 1:\n",
    "    print('num1은 0보다 크다 그리고 num2는 1보다 크다.')"
   ]
  },
  {
   "cell_type": "code",
   "execution_count": 8,
   "metadata": {},
   "outputs": [
    {
     "name": "stdout",
     "output_type": "stream",
     "text": [
      "num3가 num4보다 작다.\n"
     ]
    }
   ],
   "source": [
    "# if ~ else\n",
    "num3, num4 = 3, 4\n",
    "\n",
    "if num3 > num4:\n",
    "    print('num3가 num4보다 크다.')\n",
    "else:\n",
    "    print('num3가 num4보다 작다.')"
   ]
  },
  {
   "cell_type": "code",
   "execution_count": 10,
   "metadata": {},
   "outputs": [
    {
     "name": "stdout",
     "output_type": "stream",
     "text": [
      "num4는 가장 크다\n"
     ]
    }
   ],
   "source": [
    "# if ~ elif ~ else\n",
    "\n",
    "num1, num2, num3, num4 = 1, 2, 3, 4\n",
    "\n",
    "if num1 > num2:\n",
    "    print('num1은 num2보다 크다')\n",
    "elif num2 > num3:\n",
    "    print('num2은 num3보다 크다')\n",
    "elif num3 > num4:\n",
    "    print('num3은 num4보다 크다')\n",
    "else:\n",
    "    print('num4는 가장 크다')"
   ]
  },
  {
   "cell_type": "code",
   "execution_count": 24,
   "metadata": {},
   "outputs": [
    {
     "name": "stdout",
     "output_type": "stream",
     "text": [
      "F 입니다.\n"
     ]
    }
   ],
   "source": [
    "# 연습문제 (스위치는 없음)\n",
    "score = int(input('점수입력 : '))\n",
    "if score <= 100 and score >= 90:\n",
    "    print('A 입니다.')\n",
    "elif 80 <= score < 90:\n",
    "    print('B 입니다.')\n",
    "elif 70 <= score < 80:\n",
    "    print('C 입니다.')\n",
    "elif 60 <= score < 70:\n",
    "    print('D 입니다.')\n",
    "elif 0 <= score < 60:\n",
    "    print('F 입니다.')\n",
    "else:\n",
    "    print('점수는 100점 이하 0점 이상입니다.')\n",
    "\n",
    "\n",
    "\n",
    "\n",
    "\n"
   ]
  }
 ],
 "metadata": {
  "kernelspec": {
   "display_name": "Python 3",
   "language": "python",
   "name": "python3"
  },
  "language_info": {
   "codemirror_mode": {
    "name": "ipython",
    "version": 3
   },
   "file_extension": ".py",
   "mimetype": "text/x-python",
   "name": "python",
   "nbconvert_exporter": "python",
   "pygments_lexer": "ipython3",
   "version": "3.11.1 (tags/v3.11.1:a7a450f, Dec  6 2022, 19:58:39) [MSC v.1934 64 bit (AMD64)]"
  },
  "orig_nbformat": 4,
  "vscode": {
   "interpreter": {
    "hash": "ca3167030a8377a7b82d5e665b459d458267ba920e721652be188ae573e682bb"
   }
  }
 },
 "nbformat": 4,
 "nbformat_minor": 2
}

{
 "cells": [
  {
   "cell_type": "code",
   "execution_count": 3,
   "metadata": {},
   "outputs": [],
   "source": [
    "\"\"\"\n",
    "날짜 : 2023/01/10\n",
    "이름 : 구홍모\n",
    "내용 : 파이썬 내장함수 실습하기\n",
    "\n",
    "다음 셀로 가기 : shift + enter\n",
    "\"\"\"\n",
    "# 내장 함수를 위해 모듈 선언\n",
    "import time\n",
    "import math\n",
    "import random"
   ]
  },
  {
   "cell_type": "code",
   "execution_count": 8,
   "metadata": {},
   "outputs": [
    {
     "name": "stdout",
     "output_type": "stream",
     "text": [
      "y1 :  1673321703.2369041\n",
      "y2 :  Tue Jan 10 12:35:03 2023\n",
      "2023년 01월 10일 12:35:03\n"
     ]
    }
   ],
   "source": [
    "# 시간 관련 함수\n",
    "y1 = time.time()\n",
    "print('y1 : ',y1) #unix time\n",
    "\n",
    "y2 = time.ctime() # 변환된 Unix time\n",
    "print('y2 : ',y2)\n",
    "\n",
    "now = time.localtime(time.time())\n",
    "year = time.strftime('%Y',now)\n",
    "mon = time.strftime('%m',now)\n",
    "date = time.strftime('%d',now)\n",
    "hour = time.strftime('%H',now)\n",
    "min = time.strftime('%M',now)\n",
    "sec = time.strftime('%S',now)\n",
    "\n",
    "print('{}년 {}월 {}일 {}:{}:{}'.format(year, mon, date, hour, min, sec))"
   ]
  },
  {
   "cell_type": "code",
   "execution_count": 10,
   "metadata": {},
   "outputs": [
    {
     "name": "stdout",
     "output_type": "stream",
     "text": [
      "r1 :  2\n",
      "r2 :  2\n",
      "r3 :  1\n",
      "r4 :  1\n",
      "r5 :  1\n",
      "r6 :  2\n",
      "r7 :  3.0\n"
     ]
    }
   ],
   "source": [
    "# 수학 관련 함수\n",
    "r1 = math.ceil(1.2)\n",
    "r2 = math.ceil(1.8)\n",
    "r3 = math.floor(1.2)\n",
    "r4 = math.floor(1.8)\n",
    "r5 = round(1.2)\n",
    "r6 = round(1.8)\n",
    "r7 = math.sqrt(9)\n",
    "\n",
    "print('r1 : ',r1)\n",
    "print('r2 : ',r2)\n",
    "print('r3 : ',r3)\n",
    "print('r4 : ',r4)\n",
    "print('r5 : ',r5)\n",
    "print('r6 : ',r6)\n",
    "print('r7 : ',r7)\n"
   ]
  },
  {
   "cell_type": "code",
   "execution_count": 79,
   "metadata": {},
   "outputs": [
    {
     "name": "stdout",
     "output_type": "stream",
     "text": [
      "n1 :  0.6833463184792021\n",
      "n2 :  6.833463184792022\n",
      "n3 :  7\n",
      "rand :  44\n",
      "n4 :  -7188\n"
     ]
    }
   ],
   "source": [
    "# random\n",
    "n1 = random.random()\n",
    "\n",
    "print('n1 : ',n1)\n",
    "\n",
    "n2 = n1 * 10\n",
    "\n",
    "print('n2 : ',n2)\n",
    "\n",
    "n3 = math.ceil(n2)\n",
    "print('n3 : ',n3)\n",
    "\n",
    "rand = math.ceil(random.random()*100)\n",
    "n4 = random.randint(-10000,10000)\n",
    "print('rand : ',rand)\n",
    "print('n4 : ',n4)"
   ]
  },
  {
   "cell_type": "code",
   "execution_count": null,
   "metadata": {},
   "outputs": [],
   "source": []
  }
 ],
 "metadata": {
  "kernelspec": {
   "display_name": "Python 3",
   "language": "python",
   "name": "python3"
  },
  "language_info": {
   "codemirror_mode": {
    "name": "ipython",
    "version": 3
   },
   "file_extension": ".py",
   "mimetype": "text/x-python",
   "name": "python",
   "nbconvert_exporter": "python",
   "pygments_lexer": "ipython3",
   "version": "3.11.1"
  },
  "orig_nbformat": 4,
  "vscode": {
   "interpreter": {
    "hash": "ca3167030a8377a7b82d5e665b459d458267ba920e721652be188ae573e682bb"
   }
  }
 },
 "nbformat": 4,
 "nbformat_minor": 2
}

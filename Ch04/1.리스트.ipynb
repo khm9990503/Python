{
 "cells": [
  {
   "cell_type": "code",
   "execution_count": 1,
   "metadata": {},
   "outputs": [
    {
     "data": {
      "text/plain": [
       "'\\n날짜 : 2023/01/09\\n이름 : 구홍모\\n내용 : 파이썬 리스트 실습하기\\n\\n다음 셀로 가기 : shift + enter\\n'"
      ]
     },
     "execution_count": 1,
     "metadata": {},
     "output_type": "execute_result"
    }
   ],
   "source": [
    "\"\"\"\n",
    "날짜 : 2023/01/09\n",
    "이름 : 구홍모\n",
    "내용 : 파이썬 리스트 실습하기\n",
    "\n",
    "다음 셀로 가기 : shift + enter\n",
    "\"\"\""
   ]
  },
  {
   "cell_type": "code",
   "execution_count": 3,
   "metadata": {},
   "outputs": [
    {
     "name": "stdout",
     "output_type": "stream",
     "text": [
      "list type :  <class 'list'>\n",
      "list1[0] :  1\n",
      "list1[2] :  3\n",
      "list1[3] :  4\n"
     ]
    }
   ],
   "source": [
    "# 리스트\n",
    "list1 = [1,2,3,4,5]\n",
    "\n",
    "print('list type : ',type(list1))\n",
    "print('list1[0] : ', list1[0])\n",
    "print('list1[2] : ', list1[2])\n",
    "print('list1[3] : ', list1[3])"
   ]
  },
  {
   "cell_type": "code",
   "execution_count": 5,
   "metadata": {},
   "outputs": [
    {
     "name": "stdout",
     "output_type": "stream",
     "text": [
      "list type :  <class 'list'>\n",
      "list2[0] :  1\n",
      "list2[2] :  True\n",
      "list2[3] :  Apple\n"
     ]
    }
   ],
   "source": [
    "# 다양한 자료형을 갖는 리스트\n",
    "list2 = [1, 3.14, True, 'Apple']\n",
    "\n",
    "print('list type : ',type(list2))\n",
    "print('list2[0] : ', list2[0])\n",
    "print('list2[2] : ', list2[2])\n",
    "print('list2[3] : ', list2[3])"
   ]
  },
  {
   "cell_type": "code",
   "execution_count": 7,
   "metadata": {},
   "outputs": [
    {
     "name": "stdout",
     "output_type": "stream",
     "text": [
      "datasetp[0][0]  1\n",
      "datasetp[1][0]  4\n",
      "datasetp[2][1]  8\n"
     ]
    }
   ],
   "source": [
    "# 다차원 리스트\n",
    "dataset =  [[1,2,3],\n",
    "            [4,5,6],\n",
    "            [7,8,9]]\n",
    "\n",
    "print('datasetp[0][0] ',dataset[0][0])\n",
    "print('datasetp[1][0] ',dataset[1][0])\n",
    "print('datasetp[2][1] ',dataset[2][1])"
   ]
  },
  {
   "cell_type": "code",
   "execution_count": 10,
   "metadata": {},
   "outputs": [
    {
     "name": "stdout",
     "output_type": "stream",
     "text": [
      "dataset2 : [1, 2, 3, 4, 5]\n",
      "dataset2 : [1, 6, 3, 4, 5]\n",
      "dataset2 : [1, 6, 7, 8, 9, 5]\n",
      "dataset2 : [1, 6, 7, 5]\n"
     ]
    }
   ],
   "source": [
    "# 리스트 수정, 추가 ,삭제\n",
    "dataset2 = [1,2,3,4,5]\n",
    "print('dataset2 :',dataset2)\n",
    "\n",
    "dataset2[1] = 6 #수정\n",
    "print('dataset2 :',dataset2)\n",
    "\n",
    "dataset2[2:4] = [7,8,9] #추가\n",
    "print('dataset2 :',dataset2)\n",
    "\n",
    "dataset2[3:5] = [] #삭제\n",
    "print('dataset2 :',dataset2)"
   ]
  },
  {
   "cell_type": "code",
   "execution_count": 13,
   "metadata": {},
   "outputs": [
    {
     "name": "stdout",
     "output_type": "stream",
     "text": [
      "i :  1\n",
      "i :  2\n",
      "i :  3\n",
      "i :  4\n",
      "i :  5\n",
      "city :  서울\n",
      "city :  대전\n",
      "city :  대구\n",
      "city :  부산\n",
      "city :  광주\n",
      "cities[0] : 서울\n",
      "cities[1] : 대전\n",
      "cities[2] : 대구\n",
      "cities[3] : 부산\n",
      "cities[4] : 광주\n"
     ]
    }
   ],
   "source": [
    "# 리스트 반복문\n",
    "for i in [1,2,3,4,5]:\n",
    "    print('i : ',i)\n",
    "\n",
    "cities = ['서울','대전','대구','부산','광주']\n",
    "for city in cities:\n",
    "    print('city : ',city)\n",
    "\n",
    "for index, value in enumerate(cities):\n",
    "    print('cities[%d] : %s' % (index, value))"
   ]
  },
  {
   "cell_type": "code",
   "execution_count": 15,
   "metadata": {},
   "outputs": [
    {
     "name": "stdout",
     "output_type": "stream",
     "text": [
      "[2, 4, 6, 8, 10]\n",
      "[3, 9, 15]\n"
     ]
    }
   ],
   "source": [
    "# 리스트 comprehension\n",
    "data = [1,2,3,4,5]\n",
    "\n",
    "rs1 = [num*2 for num in data] # 리스트 만든다\n",
    "rs2 = [num*3 for num in data if num % 2 == 1]\n",
    "\n",
    "print(rs1)\n",
    "print(rs2)"
   ]
  }
 ],
 "metadata": {
  "kernelspec": {
   "display_name": "Python 3",
   "language": "python",
   "name": "python3"
  },
  "language_info": {
   "codemirror_mode": {
    "name": "ipython",
    "version": 3
   },
   "file_extension": ".py",
   "mimetype": "text/x-python",
   "name": "python",
   "nbconvert_exporter": "python",
   "pygments_lexer": "ipython3",
   "version": "3.11.1"
  },
  "orig_nbformat": 4,
  "vscode": {
   "interpreter": {
    "hash": "ca3167030a8377a7b82d5e665b459d458267ba920e721652be188ae573e682bb"
   }
  }
 },
 "nbformat": 4,
 "nbformat_minor": 2
}

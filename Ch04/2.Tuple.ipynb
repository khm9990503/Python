{
 "cells": [
  {
   "cell_type": "code",
   "execution_count": 1,
   "metadata": {},
   "outputs": [
    {
     "data": {
      "text/plain": [
       "'\\n날짜 : 2023/01/09\\n이름 : 구홍모\\n내용 : 파이썬 튜플 실습하기\\n\\n다음 셀로 가기 : shift + enter\\n'"
      ]
     },
     "execution_count": 1,
     "metadata": {},
     "output_type": "execute_result"
    }
   ],
   "source": [
    "\"\"\"\n",
    "날짜 : 2023/01/09\n",
    "이름 : 구홍모\n",
    "내용 : 파이썬 튜플 실습하기\n",
    "\n",
    "다음 셀로 가기 : shift + enter\n",
    "\"\"\""
   ]
  },
  {
   "cell_type": "code",
   "execution_count": 3,
   "metadata": {},
   "outputs": [
    {
     "name": "stdout",
     "output_type": "stream",
     "text": [
      "dataset type :  <class 'tuple'>\n",
      "dataset[0] :  1\n",
      "dataset[1] :  2\n",
      "dataset[3] :  4\n"
     ]
    }
   ],
   "source": [
    "# Tuple (고정LIST : 값을 수정 불가)\n",
    "dataset = (1,2,3,4,5)\n",
    "\n",
    "print('dataset type : ',type(dataset))\n",
    "print('dataset[0] : ',dataset[0])\n",
    "print('dataset[1] : ',dataset[1])\n",
    "print('dataset[3] : ',dataset[3])\n"
   ]
  },
  {
   "cell_type": "code",
   "execution_count": 4,
   "metadata": {},
   "outputs": [
    {
     "name": "stdout",
     "output_type": "stream",
     "text": [
      "dataset type :  <class 'tuple'>\n"
     ]
    },
    {
     "ename": "TypeError",
     "evalue": "'tuple' object does not support item assignment",
     "output_type": "error",
     "traceback": [
      "\u001b[1;31m---------------------------------------------------------------------------\u001b[0m",
      "\u001b[1;31mTypeError\u001b[0m                                 Traceback (most recent call last)",
      "Cell \u001b[1;32mIn[4], line 5\u001b[0m\n\u001b[0;32m      1\u001b[0m dataset \u001b[39m=\u001b[39m \u001b[39m1\u001b[39m, \u001b[39m2\u001b[39m, \u001b[39m3\u001b[39m, \u001b[39m4\u001b[39m, \u001b[39m5\u001b[39m \u001b[39m#() 생략\u001b[39;00m\n\u001b[0;32m      3\u001b[0m \u001b[39mprint\u001b[39m(\u001b[39m'\u001b[39m\u001b[39mdataset type : \u001b[39m\u001b[39m'\u001b[39m, \u001b[39mtype\u001b[39m(dataset))\n\u001b[1;32m----> 5\u001b[0m dataset[\u001b[39m0\u001b[39;49m]\u001b[39m=\u001b[39m\u001b[39m6\u001b[39m\n",
      "\u001b[1;31mTypeError\u001b[0m: 'tuple' object does not support item assignment"
     ]
    }
   ],
   "source": [
    "dataset = 1, 2, 3, 4, 5 #() 생략\n",
    "\n",
    "print('dataset type : ', type(dataset))\n",
    "\n",
    "dataset[0]=6 # 튜플은 수정, 추가, 삭제 불가"
   ]
  }
 ],
 "metadata": {
  "kernelspec": {
   "display_name": "Python 3",
   "language": "python",
   "name": "python3"
  },
  "language_info": {
   "codemirror_mode": {
    "name": "ipython",
    "version": 3
   },
   "file_extension": ".py",
   "mimetype": "text/x-python",
   "name": "python",
   "nbconvert_exporter": "python",
   "pygments_lexer": "ipython3",
   "version": "3.11.1"
  },
  "orig_nbformat": 4,
  "vscode": {
   "interpreter": {
    "hash": "ca3167030a8377a7b82d5e665b459d458267ba920e721652be188ae573e682bb"
   }
  }
 },
 "nbformat": 4,
 "nbformat_minor": 2
}
